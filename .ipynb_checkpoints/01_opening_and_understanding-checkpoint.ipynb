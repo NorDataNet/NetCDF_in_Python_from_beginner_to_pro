{
 "cells": [
  {
   "cell_type": "markdown",
   "id": "13c6ffe0",
   "metadata": {},
   "source": [
    "# Import modules"
   ]
  },
  {
   "cell_type": "markdown",
   "id": "87f21a5b",
   "metadata": {},
   "source": [
    "Firstly, let's import the modules that we will work with"
   ]
  },
  {
   "cell_type": "code",
   "execution_count": 18,
   "id": "c6364167",
   "metadata": {},
   "outputs": [],
   "source": [
    "import xarray as xr # For reading in a NetCDF file"
   ]
  },
  {
   "cell_type": "markdown",
   "id": "b36ec599",
   "metadata": {},
   "source": [
    "# Importing some data\n",
    "\n",
    "Have you heard of OpenDAP? Try running the cell below.\n",
    "\n",
    "OpenDAP, which stands for \"Open-source Project for a Network Data Access Protocol,\" is a technology that makes it easier to access and share scientific data over the internet. In simple terms, think of OpenDAP as a way to access scientific data over the internet. One advantage of using OpenDap is that you don't need to download the data!"
   ]
  },
  {
   "cell_type": "code",
   "execution_count": 34,
   "id": "4a991344",
   "metadata": {},
   "outputs": [
    {
     "name": "stdout",
     "output_type": "stream",
     "text": [
      "<xarray.Dataset>\n",
      "Dimensions:          (DEPTH: 63, NCHAR: 36)\n",
      "Coordinates:\n",
      "  * DEPTH            (DEPTH) float64 5.0 10.0 15.0 20.0 ... 305.0 310.0 315.0\n",
      "  * NCHAR            (NCHAR) float64 0.0 1.0 2.0 3.0 4.0 ... 32.0 33.0 34.0 35.0\n",
      "Data variables:\n",
      "    CHLOROPHYLL_A    (DEPTH) float64 ...\n",
      "    FILTERED_VOLUME  (DEPTH) float32 ...\n",
      "    PHAEOPIGMENT     (DEPTH) float64 ...\n",
      "    EVENT_ID         (DEPTH, NCHAR) object ...\n",
      "Attributes: (12/38)\n",
      "    id:                   8ac9acad-b481-50f0-a579-8d1170c6d3c0\n",
      "    naming_authority:     The University Centre in Svalbard, Norway\n",
      "    title:                Chlorophyll A and phaeopigments Nanen Legacy cruise...\n",
      "    summary:              \\n            This dataset is a collection of the a...\n",
      "    keywords:             Oceans > Ocean chemistry > Chlorophyll\n",
      "    keywords_vocabulary:  GCMD Science Keywords\n",
      "    ...                   ...\n",
      "    sampleType:           Chlorophyll a tot\n",
      "    pi_name:              Anna Vader\n",
      "    pi_institution:       UNIS\n",
      "    pi_email:             annav@unis.no\n",
      "    pi_address:           Forskningsparken, Longyearbyen\n",
      "    bottomDepthInMetres:  325.59\n"
     ]
    }
   ],
   "source": [
    "netcdf_file = 'https://opendap1.nodc.no/opendap/physics/point/cruise/nansen_legacy-single_profile/NMDC_Nansen-Legacy_PR_CT_58US_2021708/CTD_station_P1_NLEG01-1_-_Nansen_Legacy_Cruise_-_2021_Joint_Cruise_2-1.nc'\n",
    "netcdf_file = '/home/lukem/Documents/Multi_institution_projects/Nansen_Legacy/Data/Chlorophyll_A_Anna_Vader/NetCDF_files/AeN_SeaWaterChlorophyllA_20190807_P1.nc'\n",
    "xrds = xr.open_dataset(netcdf_file)\n",
    "print(xrds)"
   ]
  },
  {
   "cell_type": "markdown",
   "id": "0370671d",
   "metadata": {},
   "source": [
    "Now lets take a look at what we have opened"
   ]
  },
  {
   "cell_type": "code",
   "execution_count": 36,
   "id": "69966eba",
   "metadata": {},
   "outputs": [
    {
     "name": "stdout",
     "output_type": "stream",
     "text": [
      "<xarray.Dataset>\n",
      "Dimensions:          (DEPTH: 63, NCHAR: 36)\n",
      "Coordinates:\n",
      "  * DEPTH            (DEPTH) float64 5.0 10.0 15.0 20.0 ... 305.0 310.0 315.0\n",
      "  * NCHAR            (NCHAR) float64 0.0 1.0 2.0 3.0 4.0 ... 32.0 33.0 34.0 35.0\n",
      "Data variables:\n",
      "    CHLOROPHYLL_A    (DEPTH) float64 ...\n",
      "    FILTERED_VOLUME  (DEPTH) float32 ...\n",
      "    PHAEOPIGMENT     (DEPTH) float64 ...\n",
      "    EVENT_ID         (DEPTH, NCHAR) object ...\n",
      "Attributes: (12/38)\n",
      "    id:                   8ac9acad-b481-50f0-a579-8d1170c6d3c0\n",
      "    naming_authority:     The University Centre in Svalbard, Norway\n",
      "    title:                Chlorophyll A and phaeopigments Nanen Legacy cruise...\n",
      "    summary:              \\n            This dataset is a collection of the a...\n",
      "    keywords:             Oceans > Ocean chemistry > Chlorophyll\n",
      "    keywords_vocabulary:  GCMD Science Keywords\n",
      "    ...                   ...\n",
      "    sampleType:           Chlorophyll a tot\n",
      "    pi_name:              Anna Vader\n",
      "    pi_institution:       UNIS\n",
      "    pi_email:             annav@unis.no\n",
      "    pi_address:           Forskningsparken, Longyearbyen\n",
      "    bottomDepthInMetres:  325.59\n"
     ]
    }
   ],
   "source": [
    "print(xrds)"
   ]
  },
  {
   "cell_type": "markdown",
   "id": "d5dcc222",
   "metadata": {},
   "source": [
    "Let's break down what we see above. \n",
    "\n",
    "A classic NetCDF file like this one can be broken down into 3 components - dimensions, variables and global attributes. The variables can be broken down into coordinate variables and data variables. Sometimes they are displayed separately like here, but if you open a NetCDF file using different software the variables might be displayed together.\n",
    "\n",
    "We will now have a closer look at each of these components, starting at the bottom with attributes. \n"
   ]
  },
  {
   "cell_type": "markdown",
   "id": "d28ab423",
   "metadata": {},
   "source": [
    "### Global attributes\n",
    "\n",
    "Let's look at the global attributes. These are the metadata that describe the file as a whole. Below you can access them into a python dictionary."
   ]
  },
  {
   "cell_type": "code",
   "execution_count": 6,
   "id": "462a424f",
   "metadata": {},
   "outputs": [
    {
     "data": {
      "text/plain": [
       "{'qc_manual': 'Recommendations for in-situ data Near Real Time Quality Control https://doi.org/10.13155/36230',\n",
       " 'contact': 'datahjelp@hi.no',\n",
       " 'distribution_statement': 'These data are public and free of charge. User assumes all risk for use of data. User must display citation in any publication or product using data. User must contact PI prior to any commercial use of data.',\n",
       " 'naming_authority': 'no.unis',\n",
       " 'license': 'https://creativecommons.org/licenses/by/4.0/ https://creativecommons.org/licenses/by/4.0/',\n",
       " 'data_assembly_center': 'IMR',\n",
       " 'update_interval': 'void',\n",
       " 'area': 'Arctic Ocean',\n",
       " 'author': '',\n",
       " 'Conventions': 'CF-1.8, ACDD-1.3, OceanSITES Manual 1.4',\n",
       " 'data_mode': 'M',\n",
       " 'comment': 'Descending CTD profile',\n",
       " 'history': 'Created at 2022-08-08T12:43:51Z using the xarray library in Python',\n",
       " 'netcdf_version': 'netCDF-4 classic model',\n",
       " 'quality_index': 'A',\n",
       " 'quality_control_indicator': '0',\n",
       " 'publisher_name': 'Elisabeth Jones',\n",
       " 'publisher_email': 'datahjelp@imr.no',\n",
       " 'wmo_platform_code': '',\n",
       " 'ices_platform_code': '',\n",
       " 'site_code': '',\n",
       " 'bottom_depth': '',\n",
       " 'wmo_inst_type': '',\n",
       " 'geospatial_vertical_positive': 'down',\n",
       " 'platform_code': '58US',\n",
       " 'platform_name': 'Kronprins Haakon',\n",
       " 'source': 'research vessel',\n",
       " 'institution_country': 'Norway',\n",
       " 'source_platform_category_code': '31',\n",
       " 'data_type': 'OceanSITES vertical profile',\n",
       " 'cdm_data_type': 'PROFILE',\n",
       " 'instrument': 'CTD Seabird',\n",
       " 'keywords': 'EARTH SCIENCE > OCEANS > OCEAN OPTICS > FLUORESCENCE, EARTH SCIENCE > OCEANS > SALINITY/DENSITY > DENSITY, EARTH SCIENCE > OCEANS > SALINITY/DENSITY > OCEAN SALINITY, EARTH SCIENCE > OCEANS > OCEAN ACOUSTICS > ACOUSTIC VELOCITY, EARTH SCIENCE > OCEANS > OCEAN TEMPERATURE > WATER TEMPERATURE, EARTH SCIENCE > OCEANS > SALINITY/DENSITY > CONDUCTIVITY',\n",
       " 'keywords_vocabulary': 'GCMD:GCMD Keywords',\n",
       " 'id': 'NMDC_Nansen-Legacy_PR_CT_58US_2021708_P1_(NLEG01)',\n",
       " 'time_coverage_start': '2021-07-14T08:14:43Z',\n",
       " 'time_coverage_end': '2021-07-14T08:14:43Z',\n",
       " 'date_update': '2022-08-08T12:43:51Z',\n",
       " 'geospatial_lat_min': 76.0,\n",
       " 'geospatial_lat_max': 76.0,\n",
       " 'geospatial_lon_min': 31.2197,\n",
       " 'geospatial_lon_max': 31.2197,\n",
       " 'geospatial_vertical_min': 1.0,\n",
       " 'geospatial_vertical_max': 321.0,\n",
       " 'citation': 'These data were collected and made freely available by the Nansen Legacy project and the programs that contribute to it.',\n",
       " 'project': 'The Nansen Legacy Project (RCN # 276730)',\n",
       " 'references': 'https://doi.org/10.21335/NMDC-2085836005',\n",
       " 'featureType': 'Profile',\n",
       " 'summary': 'The Joint Cruise 2-1 addressed objectives of the work packages Physical drivers (Research Foci 1), Human impact (Research Foci 2) and The living Barents Sea (Research Foci 3) along the Nansen Legacy transect in open water and within the sea ice. The cruise focussed on comparing the state of the physical, chemical and biological conditions in the southern and northern parts of the study area. These data are created from the CTD data published by NMDC for the whole cruise (https://doi.org/10.21335/NMDC-2085836005). The values have not be changed.',\n",
       " 'pi_name': 'Elizabeth Jones',\n",
       " 'institution': 'Institute of Marine Research',\n",
       " 'institution_edmo_code': 1351,\n",
       " 'institution_references': 'https://www.hi.no/hi',\n",
       " 'creator_institution': 'Institute of Marine Research',\n",
       " 'creator_name': 'Elisabeth Jones',\n",
       " 'creator_type': 'person',\n",
       " 'creator_email': 'datahjelp@imr.no',\n",
       " 'creator_url': 'https://www.hi.no/hi',\n",
       " 'publisher': 'The Norwegian Marine Data Centre (NMD)',\n",
       " 'publisher_url': 'https://www.hi.no/hi',\n",
       " 'acknowledgement': 'The Nansen Legacy project is funded by the Research Council of Norway (RCN # 276730). These data are created from the CTD data published by NMDC for the whole cruise (10.21335/NMDC-2085836005). The values have not be changed. For information about this process, please contact Luke Marsden at data.nleg@unis.no',\n",
       " 'cruiseNumber': '2021708',\n",
       " 'cruiseName': '2021 Joint Cruise 2-1',\n",
       " 'geospatial_vertical_units': 'dbar',\n",
       " 'geospatial_vertical_resolution': '1 dbar',\n",
       " 'pi_email': 'elizabeth.jones@hi.no',\n",
       " 'pi_institution': 'Institute of Marine Research',\n",
       " 'station_name': 'P1 (NLEG01)',\n",
       " '_NCProperties': 'version=2,netcdf=4.6.3,hdf5=1.10.5',\n",
       " 'date_created': '2022-08-08T12:44:34Z',\n",
       " 'doi': '10.21335/NMDC-2085836005-P1_NLEG01-1',\n",
       " 'title': 'CTD_station_P1_NLEG01-1_-_Nansen_Legacy_Cruise_-_2021_Joint_Cruise_2-1',\n",
       " 'metadata_link': 'https://doi.org/10.21335/NMDC-2085836005-P1_NLEG01-1'}"
      ]
     },
     "execution_count": 6,
     "metadata": {},
     "output_type": "execute_result"
    }
   ],
   "source": [
    "xrds.attrs"
   ]
  },
  {
   "cell_type": "markdown",
   "id": "ab868b40",
   "metadata": {},
   "source": [
    "Since the above is a dictionary, we can access a single attribute by calling the *key* or attribute name we are interested in."
   ]
  },
  {
   "cell_type": "code",
   "execution_count": 11,
   "id": "4c6ba70f",
   "metadata": {},
   "outputs": [
    {
     "data": {
      "text/plain": [
       "'CF-1.8, ACDD-1.3, OceanSITES Manual 1.4'"
      ]
     },
     "execution_count": 11,
     "metadata": {},
     "output_type": "execute_result"
    }
   ],
   "source": [
    "xrds.attrs['Conventions']"
   ]
  },
  {
   "cell_type": "markdown",
   "id": "ecd997fc",
   "metadata": {},
   "source": [
    "*Conventions* is probably the most important global attribute because it tells you (and a machine) how to interpret the rest of the file. *CF-1.8* refers to version 1.8 of the CF conventions, which you can find here:\n",
    "\n",
    "https://cfconventions.org/\n",
    "https://cfconventions.org/Data/cf-conventions/cf-conventions-1.8/cf-conventions.html\n",
    "\n",
    "The CF conventions are a set of standards that define how a NetCDF file should be structured. The document linked above is extensive, but the aim is to provide a standardised way to organise many different types of data. You don't need to read it all, but it should be your go-to place if you want to know how to do something.\n",
    "\n",
    "However, the CF conventions are light on discovery metadata. Discovery metadata are metadata that can be used to find data. For example, when and where the data were collected and by whom, some keywords etc. So we also use the ACDD convention - The Attribute Convention for Data Discovery.\n",
    "\n",
    "https://wiki.esipfed.org/Attribute_Convention_for_Data_Discovery_1-3\n",
    "\n",
    "In most cases, if you want to find out what a global attribute means, you can visit the ACDD convention page above to find a description of the attribute. There are other conventions that someone might have included that you can also find online, but we recommend that you always follow the CF and ACDD conventions as a minimum when creating a NetCDF file.\n",
    "\n",
    "The person who created this file should have read the relevant sections of these documents to make sure that the files comply with these conventions. There are also validators you can run your files by to make sure that you file is compliant with the conventions before you publish it. For example:\n",
    "\n",
    "https://compliance.ioos.us/index.html\n",
    "\n",
    "By following conventions, the data creator and user, human or machine, should be able to understand the data in the same way. A NetCDF file itself is no FAIR because you could include any attributes or structure your data however you like. A CF-NetCDF file is FAIR.\n",
    "\n"
   ]
  },
  {
   "cell_type": "markdown",
   "id": "3d4bd619",
   "metadata": {},
   "source": [
    "### Dimensions:\n",
    "\n",
    "To extract only the dimensions, you can do this:\n"
   ]
  },
  {
   "cell_type": "code",
   "execution_count": 20,
   "id": "cd556b97",
   "metadata": {},
   "outputs": [
    {
     "data": {
      "text/plain": [
       "Frozen({'DEPTH': 63, 'NCHAR': 36})"
      ]
     },
     "execution_count": 20,
     "metadata": {},
     "output_type": "execute_result"
    }
   ],
   "source": [
    "xrds.dims"
   ]
  },
  {
   "cell_type": "markdown",
   "id": "8159d7e9",
   "metadata": {},
   "source": [
    "This NetCDF file has N dimensions, called *NAME*, *NAME* and *NAME*. \n",
    "\n",
    "The *NAME* dimension has N points. Dimensions tell you about the shape and size of your variables. In this case, we know that any variable with a dimension of PRES will have 320 data points - though some could be NaN. A variable might also have 2 dimensions. For example, a variable with the dimensions *NAME* and *NAME* will be a N x N grid of points.\n",
    "\n",
    "You can extract individual dimensions like this."
   ]
  },
  {
   "cell_type": "code",
   "execution_count": 21,
   "id": "aaa53603",
   "metadata": {},
   "outputs": [
    {
     "data": {
      "text/plain": [
       "63"
      ]
     },
     "execution_count": 21,
     "metadata": {},
     "output_type": "execute_result"
    }
   ],
   "source": [
    "xrds.dims['DEPTH']"
   ]
  },
  {
   "cell_type": "markdown",
   "id": "e6f1facd",
   "metadata": {},
   "source": [
    "### Cordinates and Data variables:\n",
    "\n",
    "Variables are where the data or coordinate values are stored. The coordinate variables usually have the same names as their respective dimensions. So to recap, a dimension tells you how many grid points there are, whilst the coordinate variable tells you the values for those grid points. To extract all the coordinate variables at once, we can do this:"
   ]
  },
  {
   "cell_type": "code",
   "execution_count": 22,
   "id": "a65b7edb",
   "metadata": {},
   "outputs": [
    {
     "data": {
      "text/plain": [
       "Coordinates:\n",
       "  * DEPTH    (DEPTH) float64 5.0 10.0 15.0 20.0 25.0 ... 300.0 305.0 310.0 315.0\n",
       "  * NCHAR    (NCHAR) float64 0.0 1.0 2.0 3.0 4.0 ... 31.0 32.0 33.0 34.0 35.0"
      ]
     },
     "execution_count": 22,
     "metadata": {},
     "output_type": "execute_result"
    }
   ],
   "source": [
    "xrds.coords"
   ]
  },
  {
   "cell_type": "markdown",
   "id": "b10d5d45",
   "metadata": {},
   "source": [
    "The name of the variable is given first.\n",
    "\n",
    "The dimension (or dimensions) that the variable has is second in brackets. So a variable with 2 dimensions will contain a 2D grid of values, where the size of grid can be seen by looking at the dimensions. \n",
    "\n",
    "Third is the format that the values are stored in. float64 tells you the values are decimal places. There is a list of possible formats here:\n",
    "\n",
    "The data variables can be extracted like this: "
   ]
  },
  {
   "cell_type": "code",
   "execution_count": 29,
   "id": "882fcdf1",
   "metadata": {},
   "outputs": [
    {
     "data": {
      "text/plain": [
       "Data variables:\n",
       "    CHLOROPHYLL_A    (DEPTH) float64 ...\n",
       "    FILTERED_VOLUME  (DEPTH) float32 ...\n",
       "    PHAEOPIGMENT     (DEPTH) float64 ...\n",
       "    EVENT_ID         (DEPTH, NCHAR) object ..."
      ]
     },
     "execution_count": 29,
     "metadata": {},
     "output_type": "execute_result"
    }
   ],
   "source": [
    "xrds.data_vars"
   ]
  },
  {
   "cell_type": "markdown",
   "id": "c31a7ff3",
   "metadata": {},
   "source": [
    "To extract a single variable named *DEPTH*:"
   ]
  },
  {
   "cell_type": "code",
   "execution_count": 28,
   "id": "f57f385e",
   "metadata": {},
   "outputs": [
    {
     "data": {
      "text/html": [
       "<div><svg style=\"position: absolute; width: 0; height: 0; overflow: hidden\">\n",
       "<defs>\n",
       "<symbol id=\"icon-database\" viewBox=\"0 0 32 32\">\n",
       "<path d=\"M16 0c-8.837 0-16 2.239-16 5v4c0 2.761 7.163 5 16 5s16-2.239 16-5v-4c0-2.761-7.163-5-16-5z\"></path>\n",
       "<path d=\"M16 17c-8.837 0-16-2.239-16-5v6c0 2.761 7.163 5 16 5s16-2.239 16-5v-6c0 2.761-7.163 5-16 5z\"></path>\n",
       "<path d=\"M16 26c-8.837 0-16-2.239-16-5v6c0 2.761 7.163 5 16 5s16-2.239 16-5v-6c0 2.761-7.163 5-16 5z\"></path>\n",
       "</symbol>\n",
       "<symbol id=\"icon-file-text2\" viewBox=\"0 0 32 32\">\n",
       "<path d=\"M28.681 7.159c-0.694-0.947-1.662-2.053-2.724-3.116s-2.169-2.030-3.116-2.724c-1.612-1.182-2.393-1.319-2.841-1.319h-15.5c-1.378 0-2.5 1.121-2.5 2.5v27c0 1.378 1.122 2.5 2.5 2.5h23c1.378 0 2.5-1.122 2.5-2.5v-19.5c0-0.448-0.137-1.23-1.319-2.841zM24.543 5.457c0.959 0.959 1.712 1.825 2.268 2.543h-4.811v-4.811c0.718 0.556 1.584 1.309 2.543 2.268zM28 29.5c0 0.271-0.229 0.5-0.5 0.5h-23c-0.271 0-0.5-0.229-0.5-0.5v-27c0-0.271 0.229-0.5 0.5-0.5 0 0 15.499-0 15.5 0v7c0 0.552 0.448 1 1 1h7v19.5z\"></path>\n",
       "<path d=\"M23 26h-14c-0.552 0-1-0.448-1-1s0.448-1 1-1h14c0.552 0 1 0.448 1 1s-0.448 1-1 1z\"></path>\n",
       "<path d=\"M23 22h-14c-0.552 0-1-0.448-1-1s0.448-1 1-1h14c0.552 0 1 0.448 1 1s-0.448 1-1 1z\"></path>\n",
       "<path d=\"M23 18h-14c-0.552 0-1-0.448-1-1s0.448-1 1-1h14c0.552 0 1 0.448 1 1s-0.448 1-1 1z\"></path>\n",
       "</symbol>\n",
       "</defs>\n",
       "</svg>\n",
       "<style>/* CSS stylesheet for displaying xarray objects in jupyterlab.\n",
       " *\n",
       " */\n",
       "\n",
       ":root {\n",
       "  --xr-font-color0: var(--jp-content-font-color0, rgba(0, 0, 0, 1));\n",
       "  --xr-font-color2: var(--jp-content-font-color2, rgba(0, 0, 0, 0.54));\n",
       "  --xr-font-color3: var(--jp-content-font-color3, rgba(0, 0, 0, 0.38));\n",
       "  --xr-border-color: var(--jp-border-color2, #e0e0e0);\n",
       "  --xr-disabled-color: var(--jp-layout-color3, #bdbdbd);\n",
       "  --xr-background-color: var(--jp-layout-color0, white);\n",
       "  --xr-background-color-row-even: var(--jp-layout-color1, white);\n",
       "  --xr-background-color-row-odd: var(--jp-layout-color2, #eeeeee);\n",
       "}\n",
       "\n",
       "html[theme=dark],\n",
       "body[data-theme=dark],\n",
       "body.vscode-dark {\n",
       "  --xr-font-color0: rgba(255, 255, 255, 1);\n",
       "  --xr-font-color2: rgba(255, 255, 255, 0.54);\n",
       "  --xr-font-color3: rgba(255, 255, 255, 0.38);\n",
       "  --xr-border-color: #1F1F1F;\n",
       "  --xr-disabled-color: #515151;\n",
       "  --xr-background-color: #111111;\n",
       "  --xr-background-color-row-even: #111111;\n",
       "  --xr-background-color-row-odd: #313131;\n",
       "}\n",
       "\n",
       ".xr-wrap {\n",
       "  display: block !important;\n",
       "  min-width: 300px;\n",
       "  max-width: 700px;\n",
       "}\n",
       "\n",
       ".xr-text-repr-fallback {\n",
       "  /* fallback to plain text repr when CSS is not injected (untrusted notebook) */\n",
       "  display: none;\n",
       "}\n",
       "\n",
       ".xr-header {\n",
       "  padding-top: 6px;\n",
       "  padding-bottom: 6px;\n",
       "  margin-bottom: 4px;\n",
       "  border-bottom: solid 1px var(--xr-border-color);\n",
       "}\n",
       "\n",
       ".xr-header > div,\n",
       ".xr-header > ul {\n",
       "  display: inline;\n",
       "  margin-top: 0;\n",
       "  margin-bottom: 0;\n",
       "}\n",
       "\n",
       ".xr-obj-type,\n",
       ".xr-array-name {\n",
       "  margin-left: 2px;\n",
       "  margin-right: 10px;\n",
       "}\n",
       "\n",
       ".xr-obj-type {\n",
       "  color: var(--xr-font-color2);\n",
       "}\n",
       "\n",
       ".xr-sections {\n",
       "  padding-left: 0 !important;\n",
       "  display: grid;\n",
       "  grid-template-columns: 150px auto auto 1fr 20px 20px;\n",
       "}\n",
       "\n",
       ".xr-section-item {\n",
       "  display: contents;\n",
       "}\n",
       "\n",
       ".xr-section-item input {\n",
       "  display: none;\n",
       "}\n",
       "\n",
       ".xr-section-item input + label {\n",
       "  color: var(--xr-disabled-color);\n",
       "}\n",
       "\n",
       ".xr-section-item input:enabled + label {\n",
       "  cursor: pointer;\n",
       "  color: var(--xr-font-color2);\n",
       "}\n",
       "\n",
       ".xr-section-item input:enabled + label:hover {\n",
       "  color: var(--xr-font-color0);\n",
       "}\n",
       "\n",
       ".xr-section-summary {\n",
       "  grid-column: 1;\n",
       "  color: var(--xr-font-color2);\n",
       "  font-weight: 500;\n",
       "}\n",
       "\n",
       ".xr-section-summary > span {\n",
       "  display: inline-block;\n",
       "  padding-left: 0.5em;\n",
       "}\n",
       "\n",
       ".xr-section-summary-in:disabled + label {\n",
       "  color: var(--xr-font-color2);\n",
       "}\n",
       "\n",
       ".xr-section-summary-in + label:before {\n",
       "  display: inline-block;\n",
       "  content: '►';\n",
       "  font-size: 11px;\n",
       "  width: 15px;\n",
       "  text-align: center;\n",
       "}\n",
       "\n",
       ".xr-section-summary-in:disabled + label:before {\n",
       "  color: var(--xr-disabled-color);\n",
       "}\n",
       "\n",
       ".xr-section-summary-in:checked + label:before {\n",
       "  content: '▼';\n",
       "}\n",
       "\n",
       ".xr-section-summary-in:checked + label > span {\n",
       "  display: none;\n",
       "}\n",
       "\n",
       ".xr-section-summary,\n",
       ".xr-section-inline-details {\n",
       "  padding-top: 4px;\n",
       "  padding-bottom: 4px;\n",
       "}\n",
       "\n",
       ".xr-section-inline-details {\n",
       "  grid-column: 2 / -1;\n",
       "}\n",
       "\n",
       ".xr-section-details {\n",
       "  display: none;\n",
       "  grid-column: 1 / -1;\n",
       "  margin-bottom: 5px;\n",
       "}\n",
       "\n",
       ".xr-section-summary-in:checked ~ .xr-section-details {\n",
       "  display: contents;\n",
       "}\n",
       "\n",
       ".xr-array-wrap {\n",
       "  grid-column: 1 / -1;\n",
       "  display: grid;\n",
       "  grid-template-columns: 20px auto;\n",
       "}\n",
       "\n",
       ".xr-array-wrap > label {\n",
       "  grid-column: 1;\n",
       "  vertical-align: top;\n",
       "}\n",
       "\n",
       ".xr-preview {\n",
       "  color: var(--xr-font-color3);\n",
       "}\n",
       "\n",
       ".xr-array-preview,\n",
       ".xr-array-data {\n",
       "  padding: 0 5px !important;\n",
       "  grid-column: 2;\n",
       "}\n",
       "\n",
       ".xr-array-data,\n",
       ".xr-array-in:checked ~ .xr-array-preview {\n",
       "  display: none;\n",
       "}\n",
       "\n",
       ".xr-array-in:checked ~ .xr-array-data,\n",
       ".xr-array-preview {\n",
       "  display: inline-block;\n",
       "}\n",
       "\n",
       ".xr-dim-list {\n",
       "  display: inline-block !important;\n",
       "  list-style: none;\n",
       "  padding: 0 !important;\n",
       "  margin: 0;\n",
       "}\n",
       "\n",
       ".xr-dim-list li {\n",
       "  display: inline-block;\n",
       "  padding: 0;\n",
       "  margin: 0;\n",
       "}\n",
       "\n",
       ".xr-dim-list:before {\n",
       "  content: '(';\n",
       "}\n",
       "\n",
       ".xr-dim-list:after {\n",
       "  content: ')';\n",
       "}\n",
       "\n",
       ".xr-dim-list li:not(:last-child):after {\n",
       "  content: ',';\n",
       "  padding-right: 5px;\n",
       "}\n",
       "\n",
       ".xr-has-index {\n",
       "  font-weight: bold;\n",
       "}\n",
       "\n",
       ".xr-var-list,\n",
       ".xr-var-item {\n",
       "  display: contents;\n",
       "}\n",
       "\n",
       ".xr-var-item > div,\n",
       ".xr-var-item label,\n",
       ".xr-var-item > .xr-var-name span {\n",
       "  background-color: var(--xr-background-color-row-even);\n",
       "  margin-bottom: 0;\n",
       "}\n",
       "\n",
       ".xr-var-item > .xr-var-name:hover span {\n",
       "  padding-right: 5px;\n",
       "}\n",
       "\n",
       ".xr-var-list > li:nth-child(odd) > div,\n",
       ".xr-var-list > li:nth-child(odd) > label,\n",
       ".xr-var-list > li:nth-child(odd) > .xr-var-name span {\n",
       "  background-color: var(--xr-background-color-row-odd);\n",
       "}\n",
       "\n",
       ".xr-var-name {\n",
       "  grid-column: 1;\n",
       "}\n",
       "\n",
       ".xr-var-dims {\n",
       "  grid-column: 2;\n",
       "}\n",
       "\n",
       ".xr-var-dtype {\n",
       "  grid-column: 3;\n",
       "  text-align: right;\n",
       "  color: var(--xr-font-color2);\n",
       "}\n",
       "\n",
       ".xr-var-preview {\n",
       "  grid-column: 4;\n",
       "}\n",
       "\n",
       ".xr-index-preview {\n",
       "  grid-column: 2 / 5;\n",
       "  color: var(--xr-font-color2);\n",
       "}\n",
       "\n",
       ".xr-var-name,\n",
       ".xr-var-dims,\n",
       ".xr-var-dtype,\n",
       ".xr-preview,\n",
       ".xr-attrs dt {\n",
       "  white-space: nowrap;\n",
       "  overflow: hidden;\n",
       "  text-overflow: ellipsis;\n",
       "  padding-right: 10px;\n",
       "}\n",
       "\n",
       ".xr-var-name:hover,\n",
       ".xr-var-dims:hover,\n",
       ".xr-var-dtype:hover,\n",
       ".xr-attrs dt:hover {\n",
       "  overflow: visible;\n",
       "  width: auto;\n",
       "  z-index: 1;\n",
       "}\n",
       "\n",
       ".xr-var-attrs,\n",
       ".xr-var-data,\n",
       ".xr-index-data {\n",
       "  display: none;\n",
       "  background-color: var(--xr-background-color) !important;\n",
       "  padding-bottom: 5px !important;\n",
       "}\n",
       "\n",
       ".xr-var-attrs-in:checked ~ .xr-var-attrs,\n",
       ".xr-var-data-in:checked ~ .xr-var-data,\n",
       ".xr-index-data-in:checked ~ .xr-index-data {\n",
       "  display: block;\n",
       "}\n",
       "\n",
       ".xr-var-data > table {\n",
       "  float: right;\n",
       "}\n",
       "\n",
       ".xr-var-name span,\n",
       ".xr-var-data,\n",
       ".xr-index-name div,\n",
       ".xr-index-data,\n",
       ".xr-attrs {\n",
       "  padding-left: 25px !important;\n",
       "}\n",
       "\n",
       ".xr-attrs,\n",
       ".xr-var-attrs,\n",
       ".xr-var-data,\n",
       ".xr-index-data {\n",
       "  grid-column: 1 / -1;\n",
       "}\n",
       "\n",
       "dl.xr-attrs {\n",
       "  padding: 0;\n",
       "  margin: 0;\n",
       "  display: grid;\n",
       "  grid-template-columns: 125px auto;\n",
       "}\n",
       "\n",
       ".xr-attrs dt,\n",
       ".xr-attrs dd {\n",
       "  padding: 0;\n",
       "  margin: 0;\n",
       "  float: left;\n",
       "  padding-right: 10px;\n",
       "  width: auto;\n",
       "}\n",
       "\n",
       ".xr-attrs dt {\n",
       "  font-weight: normal;\n",
       "  grid-column: 1;\n",
       "}\n",
       "\n",
       ".xr-attrs dt:hover span {\n",
       "  display: inline-block;\n",
       "  background: var(--xr-background-color);\n",
       "  padding-right: 10px;\n",
       "}\n",
       "\n",
       ".xr-attrs dd {\n",
       "  grid-column: 2;\n",
       "  white-space: pre-wrap;\n",
       "  word-break: break-all;\n",
       "}\n",
       "\n",
       ".xr-icon-database,\n",
       ".xr-icon-file-text2,\n",
       ".xr-no-icon {\n",
       "  display: inline-block;\n",
       "  vertical-align: middle;\n",
       "  width: 1em;\n",
       "  height: 1.5em !important;\n",
       "  stroke-width: 0;\n",
       "  stroke: currentColor;\n",
       "  fill: currentColor;\n",
       "}\n",
       "</style><pre class='xr-text-repr-fallback'>&lt;xarray.DataArray &#x27;DEPTH&#x27; (DEPTH: 63)&gt;\n",
       "array([  5.,  10.,  15.,  20.,  25.,  30.,  35.,  40.,  45.,  50.,  55.,  60.,\n",
       "        65.,  70.,  75.,  80.,  85.,  90.,  95., 100., 105., 110., 115., 120.,\n",
       "       125., 130., 135., 140., 145., 150., 155., 160., 165., 170., 175., 180.,\n",
       "       185., 190., 195., 200., 205., 210., 215., 220., 225., 230., 235., 240.,\n",
       "       245., 250., 255., 260., 265., 270., 275., 280., 285., 290., 295., 300.,\n",
       "       305., 310., 315.])\n",
       "Coordinates:\n",
       "  * DEPTH    (DEPTH) float64 5.0 10.0 15.0 20.0 25.0 ... 300.0 305.0 310.0 315.0\n",
       "Attributes:\n",
       "    units:                  metres\n",
       "    long_name:              Sample depth below sea level, positive is increas...\n",
       "    standard_name:          depth\n",
       "    coverage_content_type:  physicalMeasurement\n",
       "    positive:               down</pre><div class='xr-wrap' style='display:none'><div class='xr-header'><div class='xr-obj-type'>xarray.DataArray</div><div class='xr-array-name'>'DEPTH'</div><ul class='xr-dim-list'><li><span class='xr-has-index'>DEPTH</span>: 63</li></ul></div><ul class='xr-sections'><li class='xr-section-item'><div class='xr-array-wrap'><input id='section-e7434c30-5b73-45cf-82c3-853924a21c43' class='xr-array-in' type='checkbox' checked><label for='section-e7434c30-5b73-45cf-82c3-853924a21c43' title='Show/hide data repr'><svg class='icon xr-icon-database'><use xlink:href='#icon-database'></use></svg></label><div class='xr-array-preview xr-preview'><span>5.0 10.0 15.0 20.0 25.0 30.0 ... 290.0 295.0 300.0 305.0 310.0 315.0</span></div><div class='xr-array-data'><pre>array([  5.,  10.,  15.,  20.,  25.,  30.,  35.,  40.,  45.,  50.,  55.,  60.,\n",
       "        65.,  70.,  75.,  80.,  85.,  90.,  95., 100., 105., 110., 115., 120.,\n",
       "       125., 130., 135., 140., 145., 150., 155., 160., 165., 170., 175., 180.,\n",
       "       185., 190., 195., 200., 205., 210., 215., 220., 225., 230., 235., 240.,\n",
       "       245., 250., 255., 260., 265., 270., 275., 280., 285., 290., 295., 300.,\n",
       "       305., 310., 315.])</pre></div></div></li><li class='xr-section-item'><input id='section-d8660cf7-7988-4d20-a58d-be9f914ded8e' class='xr-section-summary-in' type='checkbox'  checked><label for='section-d8660cf7-7988-4d20-a58d-be9f914ded8e' class='xr-section-summary' >Coordinates: <span>(1)</span></label><div class='xr-section-inline-details'></div><div class='xr-section-details'><ul class='xr-var-list'><li class='xr-var-item'><div class='xr-var-name'><span class='xr-has-index'>DEPTH</span></div><div class='xr-var-dims'>(DEPTH)</div><div class='xr-var-dtype'>float64</div><div class='xr-var-preview xr-preview'>5.0 10.0 15.0 ... 305.0 310.0 315.0</div><input id='attrs-4d23a1bf-a5ba-4b4b-b54b-429401227bd2' class='xr-var-attrs-in' type='checkbox' ><label for='attrs-4d23a1bf-a5ba-4b4b-b54b-429401227bd2' title='Show/Hide attributes'><svg class='icon xr-icon-file-text2'><use xlink:href='#icon-file-text2'></use></svg></label><input id='data-d2901eb9-e1d5-4caf-b662-831de7474ca6' class='xr-var-data-in' type='checkbox'><label for='data-d2901eb9-e1d5-4caf-b662-831de7474ca6' title='Show/Hide data repr'><svg class='icon xr-icon-database'><use xlink:href='#icon-database'></use></svg></label><div class='xr-var-attrs'><dl class='xr-attrs'><dt><span>units :</span></dt><dd>metres</dd><dt><span>long_name :</span></dt><dd>Sample depth below sea level, positive is increasing depth</dd><dt><span>standard_name :</span></dt><dd>depth</dd><dt><span>coverage_content_type :</span></dt><dd>physicalMeasurement</dd><dt><span>positive :</span></dt><dd>down</dd></dl></div><div class='xr-var-data'><pre>array([  5.,  10.,  15.,  20.,  25.,  30.,  35.,  40.,  45.,  50.,  55.,  60.,\n",
       "        65.,  70.,  75.,  80.,  85.,  90.,  95., 100., 105., 110., 115., 120.,\n",
       "       125., 130., 135., 140., 145., 150., 155., 160., 165., 170., 175., 180.,\n",
       "       185., 190., 195., 200., 205., 210., 215., 220., 225., 230., 235., 240.,\n",
       "       245., 250., 255., 260., 265., 270., 275., 280., 285., 290., 295., 300.,\n",
       "       305., 310., 315.])</pre></div></li></ul></div></li><li class='xr-section-item'><input id='section-8e09d903-9dc1-468f-8555-b0cb6b37ee66' class='xr-section-summary-in' type='checkbox'  ><label for='section-8e09d903-9dc1-468f-8555-b0cb6b37ee66' class='xr-section-summary' >Indexes: <span>(1)</span></label><div class='xr-section-inline-details'></div><div class='xr-section-details'><ul class='xr-var-list'><li class='xr-var-item'><div class='xr-index-name'><div>DEPTH</div></div><div class='xr-index-preview'>PandasIndex</div><div></div><input id='index-79874437-c2be-458a-8ee9-ee522cbadfa9' class='xr-index-data-in' type='checkbox'/><label for='index-79874437-c2be-458a-8ee9-ee522cbadfa9' title='Show/Hide index repr'><svg class='icon xr-icon-database'><use xlink:href='#icon-database'></use></svg></label><div class='xr-index-data'><pre>PandasIndex(Float64Index([  5.0,  10.0,  15.0,  20.0,  25.0,  30.0,  35.0,  40.0,  45.0,\n",
       "               50.0,  55.0,  60.0,  65.0,  70.0,  75.0,  80.0,  85.0,  90.0,\n",
       "               95.0, 100.0, 105.0, 110.0, 115.0, 120.0, 125.0, 130.0, 135.0,\n",
       "              140.0, 145.0, 150.0, 155.0, 160.0, 165.0, 170.0, 175.0, 180.0,\n",
       "              185.0, 190.0, 195.0, 200.0, 205.0, 210.0, 215.0, 220.0, 225.0,\n",
       "              230.0, 235.0, 240.0, 245.0, 250.0, 255.0, 260.0, 265.0, 270.0,\n",
       "              275.0, 280.0, 285.0, 290.0, 295.0, 300.0, 305.0, 310.0, 315.0],\n",
       "             dtype=&#x27;float64&#x27;, name=&#x27;DEPTH&#x27;))</pre></div></li></ul></div></li><li class='xr-section-item'><input id='section-a9a16d03-b251-4868-b100-9f962e8c394e' class='xr-section-summary-in' type='checkbox'  checked><label for='section-a9a16d03-b251-4868-b100-9f962e8c394e' class='xr-section-summary' >Attributes: <span>(5)</span></label><div class='xr-section-inline-details'></div><div class='xr-section-details'><dl class='xr-attrs'><dt><span>units :</span></dt><dd>metres</dd><dt><span>long_name :</span></dt><dd>Sample depth below sea level, positive is increasing depth</dd><dt><span>standard_name :</span></dt><dd>depth</dd><dt><span>coverage_content_type :</span></dt><dd>physicalMeasurement</dd><dt><span>positive :</span></dt><dd>down</dd></dl></div></li></ul></div></div>"
      ],
      "text/plain": [
       "<xarray.DataArray 'DEPTH' (DEPTH: 63)>\n",
       "array([  5.,  10.,  15.,  20.,  25.,  30.,  35.,  40.,  45.,  50.,  55.,  60.,\n",
       "        65.,  70.,  75.,  80.,  85.,  90.,  95., 100., 105., 110., 115., 120.,\n",
       "       125., 130., 135., 140., 145., 150., 155., 160., 165., 170., 175., 180.,\n",
       "       185., 190., 195., 200., 205., 210., 215., 220., 225., 230., 235., 240.,\n",
       "       245., 250., 255., 260., 265., 270., 275., 280., 285., 290., 295., 300.,\n",
       "       305., 310., 315.])\n",
       "Coordinates:\n",
       "  * DEPTH    (DEPTH) float64 5.0 10.0 15.0 20.0 25.0 ... 300.0 305.0 310.0 315.0\n",
       "Attributes:\n",
       "    units:                  metres\n",
       "    long_name:              Sample depth below sea level, positive is increas...\n",
       "    standard_name:          depth\n",
       "    coverage_content_type:  physicalMeasurement\n",
       "    positive:               down"
      ]
     },
     "execution_count": 28,
     "metadata": {},
     "output_type": "execute_result"
    }
   ],
   "source": [
    "xrds['DEPTH']"
   ]
  },
  {
   "cell_type": "markdown",
   "id": "c852c31c",
   "metadata": {},
   "source": [
    "Above you can see not only the data values but also the *Attributes*, which are the metadata describing that variable. To extract only the data values themselves:"
   ]
  },
  {
   "cell_type": "code",
   "execution_count": 30,
   "id": "64e86a55",
   "metadata": {},
   "outputs": [
    {
     "data": {
      "text/plain": [
       "array([  5.,  10.,  15.,  20.,  25.,  30.,  35.,  40.,  45.,  50.,  55.,\n",
       "        60.,  65.,  70.,  75.,  80.,  85.,  90.,  95., 100., 105., 110.,\n",
       "       115., 120., 125., 130., 135., 140., 145., 150., 155., 160., 165.,\n",
       "       170., 175., 180., 185., 190., 195., 200., 205., 210., 215., 220.,\n",
       "       225., 230., 235., 240., 245., 250., 255., 260., 265., 270., 275.,\n",
       "       280., 285., 290., 295., 300., 305., 310., 315.])"
      ]
     },
     "execution_count": 30,
     "metadata": {},
     "output_type": "execute_result"
    }
   ],
   "source": [
    "xrds['DEPTH'].values"
   ]
  },
  {
   "cell_type": "markdown",
   "id": "037f2558",
   "metadata": {},
   "source": [
    "Or alternatively, just the attributes"
   ]
  },
  {
   "cell_type": "code",
   "execution_count": 32,
   "id": "2ccd04a6",
   "metadata": {},
   "outputs": [
    {
     "data": {
      "text/plain": [
       "{'units': 'metres',\n",
       " 'long_name': 'Sample depth below sea level, positive is increasing depth',\n",
       " 'standard_name': 'depth',\n",
       " 'coverage_content_type': 'physicalMeasurement',\n",
       " 'positive': 'down'}"
      ]
     },
     "execution_count": 32,
     "metadata": {},
     "output_type": "execute_result"
    }
   ],
   "source": [
    "xrds['DEPTH'].attrs"
   ]
  },
  {
   "cell_type": "markdown",
   "id": "5c44e1e9",
   "metadata": {},
   "source": [
    "The attributes are retrieved as a dictionary, so it is possible to access a single attribute by calling the *key* or attribute name."
   ]
  },
  {
   "cell_type": "code",
   "execution_count": 37,
   "id": "cd69a0db",
   "metadata": {},
   "outputs": [
    {
     "data": {
      "text/plain": [
       "'depth'"
      ]
     },
     "execution_count": 37,
     "metadata": {},
     "output_type": "execute_result"
    }
   ],
   "source": [
    "xrds['DEPTH'].attrs['standard_name']"
   ]
  },
  {
   "cell_type": "markdown",
   "id": "3767cc92",
   "metadata": {},
   "source": [
    "The variable name *PRES* is not standardised, but the *standard_name* variable attribute is from the CF conventions. You can find it in the list of CF standard names here. \n",
    "https://cfconventions.org/Data/cf-standard-names/current/build/cf-standard-name-table.html\n",
    "\n",
    "You can read the description and see what the canonical units should be. The data in the file doesn't need to be stored with the same units, but should be stored with units that are physically equivalent. "
   ]
  }
 ],
 "metadata": {
  "kernelspec": {
   "display_name": "Python 3 (ipykernel)",
   "language": "python",
   "name": "python3"
  },
  "language_info": {
   "codemirror_mode": {
    "name": "ipython",
    "version": 3
   },
   "file_extension": ".py",
   "mimetype": "text/x-python",
   "name": "python",
   "nbconvert_exporter": "python",
   "pygments_lexer": "ipython3",
   "version": "3.11.4"
  }
 },
 "nbformat": 4,
 "nbformat_minor": 5
}
