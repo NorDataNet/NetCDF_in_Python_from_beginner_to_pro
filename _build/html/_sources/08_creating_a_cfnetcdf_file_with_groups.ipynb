{
 "cells": [
  {
   "cell_type": "markdown",
   "id": "4b3ab762",
   "metadata": {},
   "source": [
    "# 08: Creating a CF-NetCDF file with groups\n",
    "\n",
    "In session 01-06, we only looked at data in the *classic* netcdf format. However, since XXXX it has been possible to create XXXX that include sets/groups. In this session we will look at how you can create a NetCDF file with groups/sets"
   ]
  }
 ],
 "metadata": {
  "kernelspec": {
   "display_name": "Python 3 (ipykernel)",
   "language": "python",
   "name": "python3"
  },
  "language_info": {
   "codemirror_mode": {
    "name": "ipython",
    "version": 3
   },
   "file_extension": ".py",
   "mimetype": "text/x-python",
   "name": "python",
   "nbconvert_exporter": "python",
   "pygments_lexer": "ipython3",
   "version": "3.11.4"
  }
 },
 "nbformat": 4,
 "nbformat_minor": 5
}
