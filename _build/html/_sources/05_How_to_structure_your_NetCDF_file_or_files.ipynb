{
 "cells": [
  {
   "cell_type": "markdown",
   "id": "1513e20a",
   "metadata": {},
   "source": [
    "# 05: How to structure you NetCDF file or files\n",
    "\n",
    "If you have lots of dimensions, deciding how to structure your CF-NetCDF file can be tricky. In this notebook I will show you with examples how to structure your data and why. I'll divide this notebook into different sections for different types of data you might have."
   ]
  }
 ],
 "metadata": {
  "kernelspec": {
   "display_name": "Python 3 (ipykernel)",
   "language": "python",
   "name": "python3"
  },
  "language_info": {
   "codemirror_mode": {
    "name": "ipython",
    "version": 3
   },
   "file_extension": ".py",
   "mimetype": "text/x-python",
   "name": "python",
   "nbconvert_exporter": "python",
   "pygments_lexer": "ipython3",
   "version": "3.11.4"
  }
 },
 "nbformat": 4,
 "nbformat_minor": 5
}
