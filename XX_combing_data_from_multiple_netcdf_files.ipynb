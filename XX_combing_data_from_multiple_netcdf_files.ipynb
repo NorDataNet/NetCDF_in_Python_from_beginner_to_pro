{
 "cells": [
  {
   "cell_type": "markdown",
   "id": "18ebfc17",
   "metadata": {},
   "source": [
    "# 04: Combining data from multiple netcdf files\n",
    "\n",
    "In some cases, people will choose to break down their data into multiple smaller netcdf files that they will publish in a single data collection. There are a number of good reasons to do this.\n",
    "* The data user can access only the data they are interested in.\n",
    "* Each file can be simpler with potentially less dimensions and less missing values. Imagine you have 10 depth profiles that all sample a different set of depths. If these profiles were included in a single netcdf file, the file would most likely a single depth dimension and coordinate variable which would need to account for all 10 depth profiles. Alternatively, 10 depth dimensions and coordinate variables could be included.\n",
    "* Each individual file can be assigned a separate set of global attributes which describe the data more accurately. For example each file could have global attributes for the coordinates and timestamp. If multiple depth profiles are stored in a single file, only the minimum and maximum coordinates and timestamp can be encoded into the global attributes.\n",
    "* Imagine you are looking for data in a data centre. You want to find depth profiles in a certain area of interest on a map. Files that include a single depth profile will be presented as points on the map. Files that include multiple depth profiles will be presented as a bounding box on a map, and without opening up the file it could be unclear whether the file includes data for your area of interest.\n",
    "\n",
    "A common reaction to learning that data are divided into multiple files is that extracting the data will involve more work. However, if the files are similar (and they should be if they follow the CF and ACDD conventions) this is not neccessarily the case.\n",
    "\n",
    "In this notebook I will show you how to easily combine data from multiple netcdf files into a single object (e.g. dataframe, multi-dimensional array) that you can use.\n",
    "\n",
    "In this case we will build on some code that we looked at in session 03 of this series, where we extracted data from a CTD profile from a NetCDF file."
   ]
  },
  {
   "cell_type": "code",
   "execution_count": 1,
   "id": "28a84b61",
   "metadata": {},
   "outputs": [],
   "source": [
    "import xarray as xr\n",
    "netcdf_file = '/home/lukem/Documents/Multi_institution_projects/Nansen_Legacy/Data/Chlorophyll_A_Anna_Vader/NetCDF_files/AeN_SeaWaterChlorophyllA_20190807_P1.nc'\n",
    "xrds = xr.open_dataset(netcdf_file)"
   ]
  }
 ],
 "metadata": {
  "kernelspec": {
   "display_name": "Python 3 (ipykernel)",
   "language": "python",
   "name": "python3"
  },
  "language_info": {
   "codemirror_mode": {
    "name": "ipython",
    "version": 3
   },
   "file_extension": ".py",
   "mimetype": "text/x-python",
   "name": "python",
   "nbconvert_exporter": "python",
   "pygments_lexer": "ipython3",
   "version": "3.11.4"
  }
 },
 "nbformat": 4,
 "nbformat_minor": 5
}
