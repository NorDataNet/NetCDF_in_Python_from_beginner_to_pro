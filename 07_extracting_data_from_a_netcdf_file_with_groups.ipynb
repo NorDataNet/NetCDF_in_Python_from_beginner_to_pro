{
 "cells": [
  {
   "cell_type": "markdown",
   "id": "e8833d79",
   "metadata": {},
   "source": [
    "# 07: Extracting data from a NetCDF file with groups\n",
    "\n",
    "Let's open up this NetCDF file and take a look at it."
   ]
  },
  {
   "cell_type": "code",
   "execution_count": 2,
   "id": "f4a3eb73",
   "metadata": {},
   "outputs": [
    {
     "name": "stdout",
     "output_type": "stream",
     "text": [
      "<xarray.Dataset>\n",
      "Dimensions:          (DEPTH: 63, NCHAR: 36)\n",
      "Coordinates:\n",
      "  * DEPTH            (DEPTH) float64 5.0 10.0 15.0 20.0 ... 305.0 310.0 315.0\n",
      "  * NCHAR            (NCHAR) float64 0.0 1.0 2.0 3.0 4.0 ... 32.0 33.0 34.0 35.0\n",
      "Data variables:\n",
      "    CHLOROPHYLL_A    (DEPTH) float64 ...\n",
      "    FILTERED_VOLUME  (DEPTH) float32 ...\n",
      "    PHAEOPIGMENT     (DEPTH) float64 ...\n",
      "    EVENT_ID         (DEPTH, NCHAR) object ...\n",
      "Attributes: (12/38)\n",
      "    id:                   8ac9acad-b481-50f0-a579-8d1170c6d3c0\n",
      "    naming_authority:     The University Centre in Svalbard, Norway\n",
      "    title:                Chlorophyll A and phaeopigments Nanen Legacy cruise...\n",
      "    summary:              \\n            This dataset is a collection of the a...\n",
      "    keywords:             Oceans > Ocean chemistry > Chlorophyll\n",
      "    keywords_vocabulary:  GCMD Science Keywords\n",
      "    ...                   ...\n",
      "    sampleType:           Chlorophyll a tot\n",
      "    pi_name:              Anna Vader\n",
      "    pi_institution:       UNIS\n",
      "    pi_email:             annav@unis.no\n",
      "    pi_address:           Forskningsparken, Longyearbyen\n",
      "    bottomDepthInMetres:  325.59\n"
     ]
    }
   ],
   "source": [
    "import xarray as xr\n",
    "netcdf_file = '/home/lukem/Documents/Multi_institution_projects/Nansen_Legacy/Data/Chlorophyll_A_Anna_Vader/NetCDF_files/AeN_SeaWaterChlorophyllA_20190807_P1.nc'\n",
    "xrds = xr.open_dataset(netcdf_file)\n",
    "print(xrds)"
   ]
  },
  {
   "cell_type": "markdown",
   "id": "6f98b71f",
   "metadata": {},
   "source": [
    "In session 01-06, we only looked at data in the *classic* netcdf format. However, since XXXX it has been possible to create XXXX that include sets/groups. In this session we will look at how you can extract data from NetCDF files stored in groups/sets."
   ]
  },
  {
   "cell_type": "code",
   "execution_count": null,
   "id": "47cddbed",
   "metadata": {},
   "outputs": [],
   "source": []
  }
 ],
 "metadata": {
  "kernelspec": {
   "display_name": "Python 3 (ipykernel)",
   "language": "python",
   "name": "python3"
  },
  "language_info": {
   "codemirror_mode": {
    "name": "ipython",
    "version": 3
   },
   "file_extension": ".py",
   "mimetype": "text/x-python",
   "name": "python",
   "nbconvert_exporter": "python",
   "pygments_lexer": "ipython3",
   "version": "3.11.4"
  }
 },
 "nbformat": 4,
 "nbformat_minor": 5
}
